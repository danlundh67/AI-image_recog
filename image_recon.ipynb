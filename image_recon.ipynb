{
 "cells": [
  {
   "cell_type": "code",
   "execution_count": 1,
   "metadata": {},
   "outputs": [
    {
     "data": {
      "text/plain": [
       "((60000, 28, 28), (10000, 28, 28), (60000,), (10000,))"
      ]
     },
     "execution_count": 1,
     "metadata": {},
     "output_type": "execute_result"
    }
   ],
   "source": [
    "from tensorflow import keras\n",
    "import ssl\n",
    "ssl._create_default_https_context = ssl._create_unverified_context\n",
    "data = keras.datasets.mnist.load_data()\n",
    "\n",
    "(X_train, y_train), (X_test, y_test) = data\n",
    "X_train.shape, X_test.shape, y_train.shape, y_test.shape\n"
   ]
  },
  {
   "cell_type": "code",
   "execution_count": null,
   "metadata": {},
   "outputs": [],
   "source": [
    "from sklearn.preprocessing import MinMaxScaler\n",
    "\n",
    "scaler=MinMaxScaler()\n",
    "pix_size=28*28\n",
    "X_train=X_train.reshape(X_train.shape[0], pix_size).astype('float32')\n",
    "X_val=X_val.reshape(X_val.shape[0], pix_size).astype('float32')\n",
    "x_test=x_test.reshape(x_test.shape[0], pix_size).astype('float32')\n",
    "\n",
    "scaled_X_train=scaler.fit_transform(X_train)\n",
    "scaled_X_val = scaler.transform(X_val)\n",
    "scaled_X_test = scaler.transform(x_test)\n",
    "\n",
    "scaled_X_train.max(), scaled_X_train.min(), scaled_X_val.max(), scaled_X_val.min(), scaled_X_test.max(), scaled_X_test.min()\n",
    "\n"
   ]
  },
  {
   "cell_type": "code",
   "execution_count": null,
   "metadata": {},
   "outputs": [],
   "source": [
    "from sklearn.neighbors import KNeighborsClassifier\n",
    "from sklearn.metrics import accuracy_score, confusion_matrix, classification_report\n",
    "import pandas as pd\n",
    "\n",
    "model_KNN = KNeighborsClassifier(n_neighbors=3)\n",
    "model_KNN.fit(scaled_X_train, y_train)\n",
    "y_pred = model_KNN.predict(scaled_X_test)\n",
    "ACC=accuracy_score(y_test, y_pred)\n",
    "\n",
    "cm=confusion_matrix(y_test,y_pred)\n",
    "print(classification_report(y_test,y_pred))"
   ]
  }
 ],
 "metadata": {
  "kernelspec": {
   "display_name": "venv",
   "language": "python",
   "name": "python3"
  },
  "language_info": {
   "codemirror_mode": {
    "name": "ipython",
    "version": 3
   },
   "file_extension": ".py",
   "mimetype": "text/x-python",
   "name": "python",
   "nbconvert_exporter": "python",
   "pygments_lexer": "ipython3",
   "version": "3.11.7"
  }
 },
 "nbformat": 4,
 "nbformat_minor": 2
}
